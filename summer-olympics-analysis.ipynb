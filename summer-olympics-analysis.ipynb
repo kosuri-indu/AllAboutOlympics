{
 "cells": [
  {
   "cell_type": "code",
   "execution_count": 290,
   "id": "7a482a5f",
   "metadata": {},
   "outputs": [],
   "source": [
    "import numpy as np\n",
    "import pandas as pd\n",
    "import seaborn as sns\n",
    "import matplotlib.pyplot as plt\n",
    "import plotly.express as px"
   ]
  },
  {
   "cell_type": "code",
   "execution_count": 291,
   "id": "c9cd083c",
   "metadata": {},
   "outputs": [],
   "source": [
    "data = pd.read_csv('Athletes_summer_games.csv')\n",
    "regions = pd.read_csv('regions.csv')"
   ]
  },
  {
   "cell_type": "code",
   "execution_count": 292,
   "id": "ce97b4c0",
   "metadata": {},
   "outputs": [
    {
     "data": {
      "text/html": [
       "<div>\n",
       "<style scoped>\n",
       "    .dataframe tbody tr th:only-of-type {\n",
       "        vertical-align: middle;\n",
       "    }\n",
       "\n",
       "    .dataframe tbody tr th {\n",
       "        vertical-align: top;\n",
       "    }\n",
       "\n",
       "    .dataframe thead th {\n",
       "        text-align: right;\n",
       "    }\n",
       "</style>\n",
       "<table border=\"1\" class=\"dataframe\">\n",
       "  <thead>\n",
       "    <tr style=\"text-align: right;\">\n",
       "      <th></th>\n",
       "      <th>Unnamed: 0</th>\n",
       "      <th>Name</th>\n",
       "      <th>Sex</th>\n",
       "      <th>Age</th>\n",
       "      <th>Team</th>\n",
       "      <th>NOC</th>\n",
       "      <th>Games</th>\n",
       "      <th>Year</th>\n",
       "      <th>Season</th>\n",
       "      <th>City</th>\n",
       "      <th>Sport</th>\n",
       "      <th>Event</th>\n",
       "      <th>Medal</th>\n",
       "    </tr>\n",
       "  </thead>\n",
       "  <tbody>\n",
       "    <tr>\n",
       "      <th>0</th>\n",
       "      <td>0</td>\n",
       "      <td>A Dijiang</td>\n",
       "      <td>M</td>\n",
       "      <td>24.0</td>\n",
       "      <td>China</td>\n",
       "      <td>CHN</td>\n",
       "      <td>1992 Summer</td>\n",
       "      <td>1992</td>\n",
       "      <td>Summer</td>\n",
       "      <td>Barcelona</td>\n",
       "      <td>Basketball</td>\n",
       "      <td>Basketball Men's Basketball</td>\n",
       "      <td>NaN</td>\n",
       "    </tr>\n",
       "    <tr>\n",
       "      <th>1</th>\n",
       "      <td>1</td>\n",
       "      <td>A Lamusi</td>\n",
       "      <td>M</td>\n",
       "      <td>23.0</td>\n",
       "      <td>China</td>\n",
       "      <td>CHN</td>\n",
       "      <td>2012 Summer</td>\n",
       "      <td>2012</td>\n",
       "      <td>Summer</td>\n",
       "      <td>London</td>\n",
       "      <td>Judo</td>\n",
       "      <td>Judo Men's Extra-Lightweight</td>\n",
       "      <td>NaN</td>\n",
       "    </tr>\n",
       "    <tr>\n",
       "      <th>2</th>\n",
       "      <td>2</td>\n",
       "      <td>Gunnar Nielsen Aaby</td>\n",
       "      <td>M</td>\n",
       "      <td>24.0</td>\n",
       "      <td>Denmark</td>\n",
       "      <td>DEN</td>\n",
       "      <td>1920 Summer</td>\n",
       "      <td>1920</td>\n",
       "      <td>Summer</td>\n",
       "      <td>Antwerpen</td>\n",
       "      <td>Football</td>\n",
       "      <td>Football Men's Football</td>\n",
       "      <td>NaN</td>\n",
       "    </tr>\n",
       "    <tr>\n",
       "      <th>3</th>\n",
       "      <td>3</td>\n",
       "      <td>Edgar Lindenau Aabye</td>\n",
       "      <td>M</td>\n",
       "      <td>34.0</td>\n",
       "      <td>Denmark/Sweden</td>\n",
       "      <td>DEN</td>\n",
       "      <td>1900 Summer</td>\n",
       "      <td>1900</td>\n",
       "      <td>Summer</td>\n",
       "      <td>Paris</td>\n",
       "      <td>Tug-Of-War</td>\n",
       "      <td>Tug-Of-War Men's Tug-Of-War</td>\n",
       "      <td>Gold</td>\n",
       "    </tr>\n",
       "    <tr>\n",
       "      <th>4</th>\n",
       "      <td>26</td>\n",
       "      <td>Cornelia \"Cor\" Aalten (-Strannood)</td>\n",
       "      <td>F</td>\n",
       "      <td>18.0</td>\n",
       "      <td>Netherlands</td>\n",
       "      <td>NED</td>\n",
       "      <td>1932 Summer</td>\n",
       "      <td>1932</td>\n",
       "      <td>Summer</td>\n",
       "      <td>Los Angeles</td>\n",
       "      <td>Athletics</td>\n",
       "      <td>Athletics Women's 100 metres</td>\n",
       "      <td>NaN</td>\n",
       "    </tr>\n",
       "  </tbody>\n",
       "</table>\n",
       "</div>"
      ],
      "text/plain": [
       "   Unnamed: 0                                Name Sex   Age            Team  \\\n",
       "0           0                           A Dijiang   M  24.0           China   \n",
       "1           1                            A Lamusi   M  23.0           China   \n",
       "2           2                 Gunnar Nielsen Aaby   M  24.0         Denmark   \n",
       "3           3                Edgar Lindenau Aabye   M  34.0  Denmark/Sweden   \n",
       "4          26  Cornelia \"Cor\" Aalten (-Strannood)   F  18.0     Netherlands   \n",
       "\n",
       "   NOC        Games  Year  Season         City       Sport  \\\n",
       "0  CHN  1992 Summer  1992  Summer    Barcelona  Basketball   \n",
       "1  CHN  2012 Summer  2012  Summer       London        Judo   \n",
       "2  DEN  1920 Summer  1920  Summer    Antwerpen    Football   \n",
       "3  DEN  1900 Summer  1900  Summer        Paris  Tug-Of-War   \n",
       "4  NED  1932 Summer  1932  Summer  Los Angeles   Athletics   \n",
       "\n",
       "                          Event Medal  \n",
       "0   Basketball Men's Basketball   NaN  \n",
       "1  Judo Men's Extra-Lightweight   NaN  \n",
       "2       Football Men's Football   NaN  \n",
       "3   Tug-Of-War Men's Tug-Of-War  Gold  \n",
       "4  Athletics Women's 100 metres   NaN  "
      ]
     },
     "execution_count": 292,
     "metadata": {},
     "output_type": "execute_result"
    }
   ],
   "source": [
    "data.head()"
   ]
  },
  {
   "cell_type": "code",
   "execution_count": 293,
   "id": "e5c8ea3e",
   "metadata": {},
   "outputs": [
    {
     "data": {
      "text/plain": [
       "(237673, 13)"
      ]
     },
     "execution_count": 293,
     "metadata": {},
     "output_type": "execute_result"
    }
   ],
   "source": [
    "data.shape"
   ]
  },
  {
   "cell_type": "code",
   "execution_count": 294,
   "id": "cc34b83b",
   "metadata": {},
   "outputs": [],
   "source": [
    "# Merge 'data' with 'regions_data' to retrieve region names based on NOC codes\n",
    "\n",
    "data = data.merge(regions, on=\"NOC\", how=\"left\")\n",
    "# Why left?\n",
    "# To preserve all rows from the left_df(data) and adding columns from the right_df(regions) based on the NOC in left."
   ]
  },
  {
   "cell_type": "code",
   "execution_count": 295,
   "id": "7da7d0e3",
   "metadata": {},
   "outputs": [
    {
     "data": {
      "text/plain": [
       "Unnamed: 0_x         0\n",
       "Name                 0\n",
       "Sex                  0\n",
       "Age               9189\n",
       "Team                 0\n",
       "NOC                  0\n",
       "Games                0\n",
       "Year                 0\n",
       "Season               0\n",
       "City                 0\n",
       "Sport                0\n",
       "Event                0\n",
       "Medal           201136\n",
       "Unnamed: 0_y         0\n",
       "region              23\n",
       "notes           233148\n",
       "dtype: int64"
      ]
     },
     "execution_count": 295,
     "metadata": {},
     "output_type": "execute_result"
    }
   ],
   "source": [
    "data.isnull().sum()"
   ]
  },
  {
   "cell_type": "markdown",
   "id": "a3f0fe9e",
   "metadata": {},
   "source": [
    "### Missing Values report:\n",
    "\n",
    "- Age is missing for 1/10th of the dataset\n",
    "- Though NOC values are filled, the regions has around 370 missing values, because some NOC's aren't related to any country/region.\n",
    "\n",
    "<br>"
   ]
  },
  {
   "cell_type": "code",
   "execution_count": 296,
   "id": "1d563e79",
   "metadata": {},
   "outputs": [
    {
     "data": {
      "text/plain": [
       "0"
      ]
     },
     "execution_count": 296,
     "metadata": {},
     "output_type": "execute_result"
    }
   ],
   "source": [
    "data.duplicated().sum()"
   ]
  },
  {
   "cell_type": "code",
   "execution_count": 297,
   "id": "47146811",
   "metadata": {},
   "outputs": [
    {
     "data": {
      "text/plain": [
       "0"
      ]
     },
     "execution_count": 297,
     "metadata": {},
     "output_type": "execute_result"
    }
   ],
   "source": [
    "data.drop_duplicates(inplace=True)\n",
    "\n",
    "# Removed duplicates\n",
    "data.duplicated().sum()"
   ]
  },
  {
   "cell_type": "code",
   "execution_count": 298,
   "id": "bd20e650",
   "metadata": {},
   "outputs": [
    {
     "data": {
      "text/plain": [
       "Medal\n",
       "Bronze    12276\n",
       "Gold      12259\n",
       "Silver    12002\n",
       "Name: count, dtype: int64"
      ]
     },
     "execution_count": 298,
     "metadata": {},
     "output_type": "execute_result"
    }
   ],
   "source": [
    "data['Medal'].value_counts()\n",
    "\n",
    "# As dropna is True by default, it is not showing NaN values"
   ]
  },
  {
   "cell_type": "code",
   "execution_count": 299,
   "id": "3967986a",
   "metadata": {},
   "outputs": [],
   "source": [
    "data = pd.concat([data, pd.get_dummies(data['Medal']).astype(int)], axis=1)\n",
    "\n",
    "# Where there is an NaN, then there is 0 in all the medals\n",
    "\n",
    "# Why doing this ?\n",
    "# Because we need cause of Gold, Silver and Bronze medals individually"
   ]
  },
  {
   "cell_type": "code",
   "execution_count": 300,
   "id": "1eba6406",
   "metadata": {},
   "outputs": [
    {
     "data": {
      "text/html": [
       "<div>\n",
       "<style scoped>\n",
       "    .dataframe tbody tr th:only-of-type {\n",
       "        vertical-align: middle;\n",
       "    }\n",
       "\n",
       "    .dataframe tbody tr th {\n",
       "        vertical-align: top;\n",
       "    }\n",
       "\n",
       "    .dataframe thead th {\n",
       "        text-align: right;\n",
       "    }\n",
       "</style>\n",
       "<table border=\"1\" class=\"dataframe\">\n",
       "  <thead>\n",
       "    <tr style=\"text-align: right;\">\n",
       "      <th></th>\n",
       "      <th>Unnamed: 0_x</th>\n",
       "      <th>Name</th>\n",
       "      <th>Sex</th>\n",
       "      <th>Age</th>\n",
       "      <th>Team</th>\n",
       "      <th>NOC</th>\n",
       "      <th>Games</th>\n",
       "      <th>Year</th>\n",
       "      <th>Season</th>\n",
       "      <th>City</th>\n",
       "      <th>Sport</th>\n",
       "      <th>Event</th>\n",
       "      <th>Medal</th>\n",
       "      <th>Unnamed: 0_y</th>\n",
       "      <th>region</th>\n",
       "      <th>notes</th>\n",
       "      <th>Bronze</th>\n",
       "      <th>Gold</th>\n",
       "      <th>Silver</th>\n",
       "    </tr>\n",
       "  </thead>\n",
       "  <tbody>\n",
       "    <tr>\n",
       "      <th>0</th>\n",
       "      <td>0</td>\n",
       "      <td>A Dijiang</td>\n",
       "      <td>M</td>\n",
       "      <td>24.0</td>\n",
       "      <td>China</td>\n",
       "      <td>CHN</td>\n",
       "      <td>1992 Summer</td>\n",
       "      <td>1992</td>\n",
       "      <td>Summer</td>\n",
       "      <td>Barcelona</td>\n",
       "      <td>Basketball</td>\n",
       "      <td>Basketball Men's Basketball</td>\n",
       "      <td>NaN</td>\n",
       "      <td>45</td>\n",
       "      <td>China</td>\n",
       "      <td>NaN</td>\n",
       "      <td>0</td>\n",
       "      <td>0</td>\n",
       "      <td>0</td>\n",
       "    </tr>\n",
       "    <tr>\n",
       "      <th>1</th>\n",
       "      <td>1</td>\n",
       "      <td>A Lamusi</td>\n",
       "      <td>M</td>\n",
       "      <td>23.0</td>\n",
       "      <td>China</td>\n",
       "      <td>CHN</td>\n",
       "      <td>2012 Summer</td>\n",
       "      <td>2012</td>\n",
       "      <td>Summer</td>\n",
       "      <td>London</td>\n",
       "      <td>Judo</td>\n",
       "      <td>Judo Men's Extra-Lightweight</td>\n",
       "      <td>NaN</td>\n",
       "      <td>45</td>\n",
       "      <td>China</td>\n",
       "      <td>NaN</td>\n",
       "      <td>0</td>\n",
       "      <td>0</td>\n",
       "      <td>0</td>\n",
       "    </tr>\n",
       "    <tr>\n",
       "      <th>2</th>\n",
       "      <td>2</td>\n",
       "      <td>Gunnar Nielsen Aaby</td>\n",
       "      <td>M</td>\n",
       "      <td>24.0</td>\n",
       "      <td>Denmark</td>\n",
       "      <td>DEN</td>\n",
       "      <td>1920 Summer</td>\n",
       "      <td>1920</td>\n",
       "      <td>Summer</td>\n",
       "      <td>Antwerpen</td>\n",
       "      <td>Football</td>\n",
       "      <td>Football Men's Football</td>\n",
       "      <td>NaN</td>\n",
       "      <td>59</td>\n",
       "      <td>Denmark</td>\n",
       "      <td>NaN</td>\n",
       "      <td>0</td>\n",
       "      <td>0</td>\n",
       "      <td>0</td>\n",
       "    </tr>\n",
       "    <tr>\n",
       "      <th>3</th>\n",
       "      <td>3</td>\n",
       "      <td>Edgar Lindenau Aabye</td>\n",
       "      <td>M</td>\n",
       "      <td>34.0</td>\n",
       "      <td>Denmark/Sweden</td>\n",
       "      <td>DEN</td>\n",
       "      <td>1900 Summer</td>\n",
       "      <td>1900</td>\n",
       "      <td>Summer</td>\n",
       "      <td>Paris</td>\n",
       "      <td>Tug-Of-War</td>\n",
       "      <td>Tug-Of-War Men's Tug-Of-War</td>\n",
       "      <td>Gold</td>\n",
       "      <td>59</td>\n",
       "      <td>Denmark</td>\n",
       "      <td>NaN</td>\n",
       "      <td>0</td>\n",
       "      <td>1</td>\n",
       "      <td>0</td>\n",
       "    </tr>\n",
       "    <tr>\n",
       "      <th>4</th>\n",
       "      <td>26</td>\n",
       "      <td>Cornelia \"Cor\" Aalten (-Strannood)</td>\n",
       "      <td>F</td>\n",
       "      <td>18.0</td>\n",
       "      <td>Netherlands</td>\n",
       "      <td>NED</td>\n",
       "      <td>1932 Summer</td>\n",
       "      <td>1932</td>\n",
       "      <td>Summer</td>\n",
       "      <td>Los Angeles</td>\n",
       "      <td>Athletics</td>\n",
       "      <td>Athletics Women's 100 metres</td>\n",
       "      <td>NaN</td>\n",
       "      <td>149</td>\n",
       "      <td>Netherlands</td>\n",
       "      <td>NaN</td>\n",
       "      <td>0</td>\n",
       "      <td>0</td>\n",
       "      <td>0</td>\n",
       "    </tr>\n",
       "  </tbody>\n",
       "</table>\n",
       "</div>"
      ],
      "text/plain": [
       "   Unnamed: 0_x                                Name Sex   Age            Team  \\\n",
       "0             0                           A Dijiang   M  24.0           China   \n",
       "1             1                            A Lamusi   M  23.0           China   \n",
       "2             2                 Gunnar Nielsen Aaby   M  24.0         Denmark   \n",
       "3             3                Edgar Lindenau Aabye   M  34.0  Denmark/Sweden   \n",
       "4            26  Cornelia \"Cor\" Aalten (-Strannood)   F  18.0     Netherlands   \n",
       "\n",
       "   NOC        Games  Year  Season         City       Sport  \\\n",
       "0  CHN  1992 Summer  1992  Summer    Barcelona  Basketball   \n",
       "1  CHN  2012 Summer  2012  Summer       London        Judo   \n",
       "2  DEN  1920 Summer  1920  Summer    Antwerpen    Football   \n",
       "3  DEN  1900 Summer  1900  Summer        Paris  Tug-Of-War   \n",
       "4  NED  1932 Summer  1932  Summer  Los Angeles   Athletics   \n",
       "\n",
       "                          Event Medal  Unnamed: 0_y       region notes  \\\n",
       "0   Basketball Men's Basketball   NaN            45        China   NaN   \n",
       "1  Judo Men's Extra-Lightweight   NaN            45        China   NaN   \n",
       "2       Football Men's Football   NaN            59      Denmark   NaN   \n",
       "3   Tug-Of-War Men's Tug-Of-War  Gold            59      Denmark   NaN   \n",
       "4  Athletics Women's 100 metres   NaN           149  Netherlands   NaN   \n",
       "\n",
       "   Bronze  Gold  Silver  \n",
       "0       0     0       0  \n",
       "1       0     0       0  \n",
       "2       0     0       0  \n",
       "3       0     1       0  \n",
       "4       0     0       0  "
      ]
     },
     "execution_count": 300,
     "metadata": {},
     "output_type": "execute_result"
    }
   ],
   "source": [
    "data.head()"
   ]
  },
  {
   "cell_type": "markdown",
   "id": "dc19ae59",
   "metadata": {},
   "source": [
    "# SUMMER OLYMPICS\n",
    "\n",
    "<br>"
   ]
  },
  {
   "cell_type": "code",
   "execution_count": 301,
   "id": "27e51f04",
   "metadata": {},
   "outputs": [],
   "source": [
    "summer_data = data[data['Season'] == \"Summer\"]"
   ]
  },
  {
   "cell_type": "code",
   "execution_count": 302,
   "id": "d08482e0",
   "metadata": {},
   "outputs": [
    {
     "data": {
      "text/plain": [
       "(237673, 19)"
      ]
     },
     "execution_count": 302,
     "metadata": {},
     "output_type": "execute_result"
    }
   ],
   "source": [
    "data.shape"
   ]
  },
  {
   "cell_type": "code",
   "execution_count": 303,
   "id": "68699880",
   "metadata": {},
   "outputs": [
    {
     "data": {
      "text/plain": [
       "(208,)"
      ]
     },
     "execution_count": 303,
     "metadata": {},
     "output_type": "execute_result"
    }
   ],
   "source": [
    "summer_data['region'].unique().shape"
   ]
  },
  {
   "cell_type": "markdown",
   "id": "f1fc708a",
   "metadata": {},
   "source": [
    "### There are sum historical issues, as in the past years, there were many countries which divided and some joined and there are also NaN values\n",
    "\n",
    "<br>"
   ]
  },
  {
   "cell_type": "code",
   "execution_count": null,
   "id": "ca137580",
   "metadata": {},
   "outputs": [],
   "source": [
    "summer_data.groupby('NOC').sum()[['Gold','Silver','Bronze']].sort_values('Gold', ascending=False).reset_index()"
   ]
  },
  {
   "cell_type": "markdown",
   "id": "4e52f410",
   "metadata": {},
   "source": [
    "### BUT ?! By tallying it on the Wikipedia (https://en.wikipedia.org/wiki/All-time_Olympic_Games_medal_table),\n",
    "\n",
    "The data is incorrect, the above table is showing more medal than the actual one.\n",
    "\n",
    "Problem :\n",
    "- The problem is that, this dataset is actually based on atheletes, and there might be events, where it was a team play, the whole team won i.e each teamplayer gets a medal\n",
    "- Due to this, even for one win, we are counting all the medals in the team as well\n",
    "\n",
    "<br>"
   ]
  },
  {
   "cell_type": "code",
   "execution_count": null,
   "id": "1bae3eb9",
   "metadata": {},
   "outputs": [],
   "source": [
    "summer_medal_tally = summer_data.drop_duplicates(subset=['Team','NOC','Games','Year','City','Sport','Event','Medal'])"
   ]
  },
  {
   "cell_type": "code",
   "execution_count": null,
   "id": "52c640e7",
   "metadata": {},
   "outputs": [],
   "source": [
    "summer_medal_tally = summer_medal_tally.groupby('NOC').sum()[['Gold','Silver','Bronze']].sort_values('Gold', ascending=False).reset_index()"
   ]
  },
  {
   "cell_type": "code",
   "execution_count": null,
   "id": "ff1f01a8",
   "metadata": {},
   "outputs": [],
   "source": [
    "summer_medal_tally['total'] = summer_medal_tally['Gold'] + summer_medal_tally['Silver'] + summer_medal_tally['Bronze']"
   ]
  },
  {
   "cell_type": "code",
   "execution_count": null,
   "id": "e0683e8a",
   "metadata": {},
   "outputs": [],
   "source": [
    "summer_medal_tally"
   ]
  },
  {
   "cell_type": "markdown",
   "id": "355da63b",
   "metadata": {},
   "source": [
    "### Though the data is varying a little bit, as there are some exceptions mentioned in the Wikipedia page as well, BUT the ranking remains the same\n",
    "\n",
    "<br>"
   ]
  },
  {
   "cell_type": "code",
   "execution_count": null,
   "id": "b314c820",
   "metadata": {},
   "outputs": [],
   "source": [
    "summer_medal_tally[summer_medal_tally['NOC'] == \"IND\"]"
   ]
  },
  {
   "cell_type": "code",
   "execution_count": null,
   "id": "57ff90ed",
   "metadata": {},
   "outputs": [],
   "source": [
    "years = summer_data['Year'].unique().tolist()"
   ]
  },
  {
   "cell_type": "code",
   "execution_count": null,
   "id": "155d3ba9",
   "metadata": {},
   "outputs": [],
   "source": [
    "years.sort()"
   ]
  },
  {
   "cell_type": "code",
   "execution_count": null,
   "id": "3aacfcc8",
   "metadata": {},
   "outputs": [],
   "source": [
    "years.insert(0,\"Overall\")"
   ]
  },
  {
   "cell_type": "code",
   "execution_count": null,
   "id": "3c3528b6",
   "metadata": {},
   "outputs": [],
   "source": [
    "years"
   ]
  },
  {
   "cell_type": "code",
   "execution_count": null,
   "id": "f6d854af",
   "metadata": {},
   "outputs": [],
   "source": [
    "country = summer_data['region'].dropna().unique().tolist()"
   ]
  },
  {
   "cell_type": "code",
   "execution_count": null,
   "id": "ebfd9bcb",
   "metadata": {},
   "outputs": [],
   "source": [
    "country.sort()"
   ]
  },
  {
   "cell_type": "code",
   "execution_count": null,
   "id": "25f83caf",
   "metadata": {},
   "outputs": [],
   "source": [
    "country.insert(0,\"Overall\")"
   ]
  },
  {
   "cell_type": "code",
   "execution_count": null,
   "id": "989e7661",
   "metadata": {},
   "outputs": [],
   "source": [
    "country"
   ]
  },
  {
   "cell_type": "code",
   "execution_count": null,
   "id": "f34beed7",
   "metadata": {},
   "outputs": [],
   "source": [
    "def get_medal_tally(year, country):\n",
    "    medal\n",
    "    if year == 'Overall' and country == 'Overall':\n",
    "        pass\n",
    "    if year == 'Overall' and country != 'Overall':\n",
    "        pass\n",
    "    if year != 'Overall' and country == 'Overall':\n",
    "        pass\n",
    "    if year != 'Overall' and country != 'Overall':\n",
    "        pass"
   ]
  },
  {
   "cell_type": "markdown",
   "id": "fe9f4202",
   "metadata": {},
   "source": [
    "### Overall Analysis\n",
    "\n",
    "- No of editions\n",
    "- No of cities\n",
    "- No of events/sports\n",
    "- No of atheletes\n",
    "- Participating Nations\n",
    "\n",
    "<br>"
   ]
  },
  {
   "cell_type": "code",
   "execution_count": null,
   "id": "79d80442",
   "metadata": {},
   "outputs": [],
   "source": [
    "# As 1906 Olympics is intercalated\n",
    "\n",
    "summer_data['Year'].unique().shape[0] - 1"
   ]
  },
  {
   "cell_type": "code",
   "execution_count": null,
   "id": "ddef4198",
   "metadata": {},
   "outputs": [],
   "source": [
    "summer_data['City'].unique().shape[0]"
   ]
  },
  {
   "cell_type": "code",
   "execution_count": null,
   "id": "91562a60",
   "metadata": {},
   "outputs": [],
   "source": [
    "summer_data['Sport'].unique().shape[0]"
   ]
  },
  {
   "cell_type": "code",
   "execution_count": null,
   "id": "c5cfa575",
   "metadata": {},
   "outputs": [],
   "source": [
    "summer_data['Event'].unique().shape[0]"
   ]
  },
  {
   "cell_type": "code",
   "execution_count": null,
   "id": "7fde1db6",
   "metadata": {},
   "outputs": [],
   "source": [
    "summer_data['Name'].unique().shape[0]"
   ]
  },
  {
   "cell_type": "code",
   "execution_count": null,
   "id": "840ef267",
   "metadata": {},
   "outputs": [],
   "source": [
    "summer_data['region'].unique().shape[0]"
   ]
  },
  {
   "cell_type": "code",
   "execution_count": null,
   "id": "3981abb7",
   "metadata": {},
   "outputs": [],
   "source": [
    "nations_over_time = summer_data.drop_duplicates(['Year','region'])['Year'].value_counts().reset_index().sort_values('Year')"
   ]
  },
  {
   "cell_type": "code",
   "execution_count": null,
   "id": "56bee0f1",
   "metadata": {},
   "outputs": [],
   "source": [
    "nations_over_time.rename(columns={'Year':'Edition', 'count': 'No. of Countries'}, inplace= True)"
   ]
  },
  {
   "cell_type": "code",
   "execution_count": null,
   "id": "62396820",
   "metadata": {},
   "outputs": [],
   "source": [
    "fig = px.line(nations_over_time, x='Edition', y='No. of Countries')\n",
    "fig.show()"
   ]
  },
  {
   "cell_type": "markdown",
   "id": "7cdb551d",
   "metadata": {},
   "source": [
    "According to History,\n",
    "\n",
    "\"The 1980 Moscow Olympics were marred by a widespread boycott led by the United States and other nations in protest of the Soviet Union's invasion of Afghanistan, highlighting the intersection of sports with international politics and tensions\"\n",
    "\n",
    "<br>"
   ]
  },
  {
   "cell_type": "code",
   "execution_count": null,
   "id": "8ebde002",
   "metadata": {},
   "outputs": [],
   "source": [
    "discrete_data = summer_data.drop_duplicates(['Year','Sport','Event'])"
   ]
  },
  {
   "cell_type": "code",
   "execution_count": null,
   "id": "c34eacce",
   "metadata": {},
   "outputs": [],
   "source": [
    "plt.figure(figsize=(25,25))\n",
    "sns.heatmap(discrete_data.pivot_table(index='Sport', columns='Year',values='Event',aggfunc='count').fillna(0).astype(int), annot=True)\n",
    "\n",
    "# as there are NaN values, fillna will fill them with 0\n",
    "# aggfunc - that function will be applied\n",
    "\n",
    "# annot - for numbers to be displayed"
   ]
  },
  {
   "cell_type": "code",
   "execution_count": null,
   "id": "8e8250fe",
   "metadata": {},
   "outputs": [],
   "source": [
    "def most_successful(data, sport):\n",
    "    temp_df = data.dropna(subset=['Medal'])\n",
    "\n",
    "    if sport != 'Overall':\n",
    "        temp_df = temp_df[temp_df['Sport'] == sport]\n",
    "\n",
    "    x = temp_df['Name'].value_counts().reset_index().head(15).merge(data, left_on='Name', right_on='Name', how='left')[\n",
    "        ['Name', 'count', 'Sport', 'region']].drop_duplicates('Name')\n",
    "    x.rename(columns={'count': 'Medals'}, inplace=True)\n",
    "    return x\n",
    "\n",
    "most_successful(summer_data, \"Overall\")"
   ]
  },
  {
   "cell_type": "code",
   "execution_count": null,
   "id": "c3048b85",
   "metadata": {},
   "outputs": [],
   "source": [
    "def held_at_city(data, season):\n",
    "    if season == 'Overall':\n",
    "        region = summer_data.groupby('Year').first()['City'].reset_index()\n",
    "        season = summer_data.groupby('Year').first()['Season'].reset_index()\n",
    "        final_data = region.merge(season, on=\"Year\")\n",
    "\n",
    "    else:\n",
    "        final_data = data.groupby('Year').first()['City'].reset_index()   \n",
    "    return final_data\n",
    "\n",
    "city_data = held_at_city(summer_data, \"Overall\")\n",
    "city_data"
   ]
  },
  {
   "cell_type": "code",
   "execution_count": null,
   "id": "ac32eb56",
   "metadata": {},
   "outputs": [],
   "source": [
    "region = summer_data.groupby('Year').first()['City'].reset_index()\n",
    "season = summer_data.groupby('Year').first()['Season'].reset_index()\n",
    "final_data = region.merge(season, on=\"Year\")\n",
    "final_data"
   ]
  },
  {
   "cell_type": "markdown",
   "id": "e005ef4f",
   "metadata": {},
   "source": [
    "### Country wise\n",
    "\n",
    "- CountryWise medal tally per year (line plot)\n",
    "- What countries in heatmap\n",
    "- Most Successfull Atheletes (Top 10)\n",
    "- Most popular sport\n",
    "- Most popular event\n",
    "\n",
    "<br>"
   ]
  },
  {
   "cell_type": "code",
   "execution_count": null,
   "id": "00ca76a1",
   "metadata": {},
   "outputs": [],
   "source": [
    "country_list = summer_data['region'].dropna().unique().tolist()"
   ]
  },
  {
   "cell_type": "code",
   "execution_count": null,
   "id": "1645c038",
   "metadata": {},
   "outputs": [],
   "source": [
    "country_list.sort()"
   ]
  },
  {
   "cell_type": "code",
   "execution_count": null,
   "id": "3f7aa9a4",
   "metadata": {},
   "outputs": [],
   "source": [
    "def yearwise_medal_tally(data,country):\n",
    "    temp_data = data.dropna(subset=['Medal'])\n",
    "    temp_data.drop_duplicates(subset=['Team', 'NOC', 'Games', 'Year', 'City', 'Sport', 'Event', 'Medal'], inplace=True)\n",
    "\n",
    "    new_data = temp_data[temp_data['region'] == country]\n",
    "    final_data = new_data.groupby('Year').count()['Medal'].reset_index()\n",
    "\n",
    "    return final_data\n",
    "\n",
    "country_data = yearwise_medal_tally(summer_data,\"India\")"
   ]
  },
  {
   "cell_type": "code",
   "execution_count": null,
   "id": "fd5b075d",
   "metadata": {},
   "outputs": [],
   "source": [
    "fig = px.line(country_data, x=\"Year\", y=\"Medal\")\n",
    "fig"
   ]
  },
  {
   "cell_type": "code",
   "execution_count": null,
   "id": "f9a6d102",
   "metadata": {},
   "outputs": [],
   "source": [
    "def country_event_heatmap(df,country):\n",
    "    temp_data = df.dropna(subset=['Medal'])\n",
    "    temp_data.drop_duplicates(subset=['Team', 'NOC', 'Games', 'Year', 'City', 'Sport', 'Event', 'Medal'], inplace=True)\n",
    "\n",
    "    new_df = temp_data[temp_data['region'] == country]\n",
    "\n",
    "    pt = new_df.pivot_table(index='Sport', columns='Year', values='Medal', aggfunc='count').fillna(0)\n",
    "    return pt\n",
    "\n",
    "pt = country_event_heatmap(summer_data, \"Japan\")"
   ]
  },
  {
   "cell_type": "code",
   "execution_count": null,
   "id": "0594d270",
   "metadata": {},
   "outputs": [],
   "source": [
    "fig, ax = plt.subplots(figsize=(20, 20))\n",
    "ax = sns.heatmap(pt,annot=True)"
   ]
  },
  {
   "cell_type": "code",
   "execution_count": null,
   "id": "fab1c7ab",
   "metadata": {},
   "outputs": [],
   "source": [
    "def medals_per_event(data,country):\n",
    "    temp_data = data.dropna(subset=['Medal'])\n",
    "    temp_data.drop_duplicates(subset=['Team', 'NOC', 'Games', 'Year', 'City', 'Sport', 'Event', 'Medal'], inplace=True)\n",
    "\n",
    "    new_data = temp_data[temp_data['region'] == country]\n",
    "    final_data = new_data.groupby('Event').count()['Medal'].sort_values(ascending=False).reset_index()\n",
    "\n",
    "    return final_data\n",
    "\n",
    "event_data = medals_per_event(summer_data,'India')"
   ]
  },
  {
   "cell_type": "code",
   "execution_count": null,
   "id": "df38b439",
   "metadata": {},
   "outputs": [],
   "source": [
    "event_data"
   ]
  },
  {
   "cell_type": "code",
   "execution_count": null,
   "id": "618d46db",
   "metadata": {},
   "outputs": [],
   "source": [
    "def sports_wise_medals(data,country):\n",
    "    temp_data = data.dropna(subset=['Medal'])\n",
    "    temp_data.drop_duplicates(subset=['Team', 'NOC', 'Games', 'Year', 'City', 'Sport', 'Event', 'Medal'], inplace=True)\n",
    "\n",
    "    new_data = temp_data[temp_data['region'] == country]\n",
    "    final_data = new_data.groupby('Sport').count()['Medal'].reset_index()\n",
    "\n",
    "    return final_data\n",
    "\n",
    "sports_data = sports_wise_medals(summer_data, \"India\")\n",
    "plt.pie(sports_data['Medal'], labels=sports_data['Sport'], radius=5)\n",
    "#plt.barh(sports_data['Sport'], sports_data['Medal'])"
   ]
  },
  {
   "cell_type": "markdown",
   "id": "e4078701",
   "metadata": {},
   "source": [
    "### Athelete Wise Analysis\n",
    "<br>"
   ]
  },
  {
   "cell_type": "code",
   "execution_count": null,
   "id": "6a81fd0f",
   "metadata": {},
   "outputs": [],
   "source": [
    "import plotly.figure_factory as ff"
   ]
  },
  {
   "cell_type": "code",
   "execution_count": null,
   "id": "dd4de95a",
   "metadata": {},
   "outputs": [],
   "source": [
    "def most_successful_event(data, event):\n",
    "    temp_data = data.dropna(subset=['Medal'])\n",
    "\n",
    "    if event != 'Overall':\n",
    "        temp_data = temp_data[temp_data['Event'] == event]\n",
    "        \n",
    "    print(temp_data)\n",
    "    x = temp_data['Name'].value_counts().reset_index().head(15).merge(data, left_on='Name', right_on='Name', how='left')[\n",
    "        ['Name', 'count', 'region']].drop_duplicates('Name')\n",
    "    x.rename(columns={'count': 'Medals'}, inplace=True)\n",
    "    return x"
   ]
  },
  {
   "cell_type": "code",
   "execution_count": null,
   "id": "afcac15a",
   "metadata": {},
   "outputs": [],
   "source": [
    "most_successful_event(summer_data, \"Archery Men's Au Cordon Dore, 50 metres\")"
   ]
  },
  {
   "cell_type": "code",
   "execution_count": null,
   "id": "650d52e6",
   "metadata": {},
   "outputs": [],
   "source": [
    "athlete_data = summer_data.drop_duplicates(subset=['Name', 'region'])"
   ]
  },
  {
   "cell_type": "code",
   "execution_count": null,
   "id": "d2f1ea00",
   "metadata": {},
   "outputs": [],
   "source": [
    "x1 = athlete_data['Age'].dropna()\n",
    "x2 = athlete_data[athlete_data['Medal'] == 'Gold']['Age'].dropna()\n",
    "x3 = athlete_data[athlete_data['Medal'] == 'Silver']['Age'].dropna()\n",
    "x4 = athlete_data[athlete_data['Medal'] == 'Bronze']['Age'].dropna()"
   ]
  },
  {
   "cell_type": "code",
   "execution_count": null,
   "id": "93351748",
   "metadata": {},
   "outputs": [],
   "source": [
    "fig = ff.create_distplot([x1, x2, x3, x4], ['Overall Age', 'Gold Medalist', 'Silver Medalist', 'Bronze Medalist'],show_hist=False, show_rug=False)\n",
    "fig.update_layout(autosize=False,width=800,height=600)"
   ]
  },
  {
   "cell_type": "code",
   "execution_count": null,
   "id": "4683ec4e",
   "metadata": {},
   "outputs": [],
   "source": [
    "famous_sports = ['Basketball', 'Judo', 'Football', 'Tug-Of-War', 'Athletics',\n",
    "                     'Swimming', 'Badminton', 'Sailing', 'Gymnastics',\n",
    "                     'Art Competitions', 'Handball', 'Weightlifting', 'Wrestling',\n",
    "                     'Water Polo', 'Hockey', 'Rowing', 'Fencing',\n",
    "                     'Shooting', 'Boxing', 'Taekwondo', 'Cycling', 'Diving', 'Canoeing',\n",
    "                     'Tennis', 'Golf', 'Softball', 'Archery',\n",
    "                     'Volleyball', 'Synchronized Swimming', 'Table Tennis', 'Baseball',\n",
    "                     'Rhythmic Gymnastics', 'Rugby Sevens',\n",
    "                     'Beach Volleyball', 'Triathlon', 'Rugby', 'Polo', 'Ice Hockey']"
   ]
  },
  {
   "cell_type": "code",
   "execution_count": null,
   "id": "88ff5d0f",
   "metadata": {},
   "outputs": [],
   "source": [
    "x = []\n",
    "name = []\n",
    "for sport in famous_sports:\n",
    "    temp_data = athlete_data[athlete_data['Sport'] == sport]\n",
    "    x.append(temp_data[temp_data['Medal'] == 'Gold']['Age'].dropna())\n",
    "    name.append(sport)"
   ]
  },
  {
   "cell_type": "code",
   "execution_count": null,
   "id": "959ed407",
   "metadata": {},
   "outputs": [],
   "source": [
    "fig = ff.create_distplot(x, name, show_hist=False, show_rug=False)\n",
    "fig.update_layout(autosize=False, width=800, height=600)"
   ]
  },
  {
   "cell_type": "code",
   "execution_count": null,
   "id": "86f94445",
   "metadata": {},
   "outputs": [],
   "source": [
    "def men_vs_women(df):\n",
    "    athlete_data = df.drop_duplicates(subset=['Name', 'region'])\n",
    "\n",
    "    men = athlete_data[athlete_data['Sex'] == 'M'].groupby('Year').count()['Name'].reset_index()\n",
    "    women = athlete_data[athlete_data['Sex'] == 'F'].groupby('Year').count()['Name'].reset_index()\n",
    "\n",
    "    final = men.merge(women, on='Year', how='left')\n",
    "    final.rename(columns={'Name_x': 'Male', 'Name_y': 'Female'}, inplace=True)\n",
    "\n",
    "    final.fillna(0, inplace=True)\n",
    "\n",
    "    return final"
   ]
  },
  {
   "cell_type": "code",
   "execution_count": null,
   "id": "9ad3c100",
   "metadata": {},
   "outputs": [],
   "source": [
    "final = men_vs_women(summer_data)\n",
    "fig = px.line(final, x=\"Year\", y=[\"Male\", \"Female\"])\n",
    "fig.update_layout(autosize=False, width=800, height=600)"
   ]
  }
 ],
 "metadata": {
  "kernelspec": {
   "display_name": "Python 3 (ipykernel)",
   "language": "python",
   "name": "python3"
  },
  "language_info": {
   "codemirror_mode": {
    "name": "ipython",
    "version": 3
   },
   "file_extension": ".py",
   "mimetype": "text/x-python",
   "name": "python",
   "nbconvert_exporter": "python",
   "pygments_lexer": "ipython3",
   "version": "3.10.9"
  }
 },
 "nbformat": 4,
 "nbformat_minor": 5
}
